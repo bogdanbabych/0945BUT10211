{
  "nbformat": 4,
  "nbformat_minor": 0,
  "metadata": {
    "colab": {
      "name": "terminology-extraction-2021-v01.ipynb",
      "provenance": [],
      "authorship_tag": "ABX9TyPpdHbsTbTRunuYJZNtiqnH",
      "include_colab_link": true
    },
    "kernelspec": {
      "name": "python3",
      "display_name": "Python 3"
    },
    "language_info": {
      "name": "python"
    }
  },
  "cells": [
    {
      "cell_type": "markdown",
      "metadata": {
        "id": "view-in-github",
        "colab_type": "text"
      },
      "source": [
        "<a href=\"https://colab.research.google.com/github/bogdanbabych/0945BUT10211/blob/main/terminology_extraction_2021_v01.ipynb\" target=\"_parent\"><img src=\"https://colab.research.google.com/assets/colab-badge.svg\" alt=\"Open In Colab\"/></a>"
      ]
    },
    {
      "cell_type": "markdown",
      "metadata": {
        "id": "kb718h5Yuj-C"
      },
      "source": [
        "## Extracting terminology from pos tagged corpus in Python\n",
        "This script will extract terms\n"
      ]
    }
  ]
}