{
  "nbformat": 4,
  "nbformat_minor": 0,
  "metadata": {
    "colab": {
      "name": "terminology-extraction-v02.ipynb",
      "provenance": [],
      "authorship_tag": "ABX9TyPI2T0PouuE0FMrP7CSBtL8",
      "include_colab_link": true
    },
    "kernelspec": {
      "name": "python3",
      "display_name": "Python 3"
    },
    "language_info": {
      "name": "python"
    }
  },
  "cells": [
    {
      "cell_type": "markdown",
      "metadata": {
        "id": "view-in-github",
        "colab_type": "text"
      },
      "source": [
        "<a href=\"https://colab.research.google.com/github/bogdanbabych/0945BUT10211/blob/main/terminology_extraction_v02.ipynb\" target=\"_parent\"><img src=\"https://colab.research.google.com/assets/colab-badge.svg\" alt=\"Open In Colab\"/></a>"
      ]
    },
    {
      "cell_type": "code",
      "metadata": {
        "id": "SGwjMD_RGfg6"
      },
      "source": [
        ""
      ],
      "execution_count": null,
      "outputs": []
    },
    {
      "cell_type": "markdown",
      "metadata": {
        "id": "bOte7AhLHsY2"
      },
      "source": [
        "## Terminology extraction with Python\n",
        "this is a script which will extract terminology from comparable corpora\n"
      ]
    },
    {
      "cell_type": "code",
      "metadata": {
        "id": "mpUFhTvxH8Me"
      },
      "source": [
        ""
      ],
      "execution_count": null,
      "outputs": []
    }
  ]
}