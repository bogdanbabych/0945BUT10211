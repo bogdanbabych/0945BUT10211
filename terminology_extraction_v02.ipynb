{
  "nbformat": 4,
  "nbformat_minor": 0,
  "metadata": {
    "colab": {
      "name": "terminology-extraction-v02.ipynb",
      "provenance": [],
      "toc_visible": true,
      "authorship_tag": "ABX9TyPHkQjz/IutpzdZJUgF7A/r",
      "include_colab_link": true
    },
    "kernelspec": {
      "name": "python3",
      "display_name": "Python 3"
    },
    "language_info": {
      "name": "python"
    }
  },
  "cells": [
    {
      "cell_type": "markdown",
      "metadata": {
        "id": "view-in-github",
        "colab_type": "text"
      },
      "source": [
        "<a href=\"https://colab.research.google.com/github/bogdanbabych/0945BUT10211/blob/main/terminology_extraction_v02.ipynb\" target=\"_parent\"><img src=\"https://colab.research.google.com/assets/colab-badge.svg\" alt=\"Open In Colab\"/></a>"
      ]
    },
    {
      "cell_type": "code",
      "metadata": {
        "id": "SGwjMD_RGfg6"
      },
      "source": [
        ""
      ],
      "execution_count": null,
      "outputs": []
    },
    {
      "cell_type": "markdown",
      "metadata": {
        "id": "bOte7AhLHsY2"
      },
      "source": [
        "## Terminology extraction with Python\n",
        "this is a script which will extract terminology from comparable corpora\n"
      ]
    },
    {
      "cell_type": "code",
      "metadata": {
        "id": "mpUFhTvxH8Me"
      },
      "source": [
        "import os, re, sys"
      ],
      "execution_count": 1,
      "outputs": []
    },
    {
      "cell_type": "code",
      "metadata": {
        "id": "lk031oxlI-G0"
      },
      "source": [
        "class clProcCorpus(object):\n",
        "\t'''\n",
        "\treading corpus, extracting terms with PoS patterns\n",
        "\t'''\n",
        "\n",
        "\tdef __init__(self, FileIN):\n",
        "\t\tself.DTerms = {}\n",
        "\t\tself.readCorpus(FileIN)\n",
        "\n",
        "\n",
        "\tdef readCorpus(self, FileIN):\n",
        "\t\tLTerm = []\n",
        "\t\tfor SLine in FileIN:\n",
        "\t\t\tLLine = re.split('\\t', SLine)\n",
        "\t\t\t# sys.stderr.write(str(LLine) + '\\n')\n",
        "\n",
        "\t\t\ttry:\n",
        "\t\t\t\tSWord = LLine[0]\n",
        "\t\t\t\tSPoS = LLine[1]\n",
        "\t\t\t\tSLemma = LLine[2]\n",
        "\t\t\texcept:\n",
        "\t\t\t\tSWord = ''\n",
        "\t\t\t\tSPoS = ''\n",
        "\t\t\t\tSLemma = ''\n",
        "\n",
        "\t\t\tif re.match('J.*', SPoS) or re.match('N.*', SPoS):\n",
        "\t\t\t\tLTerm.append(SWord)\n",
        "\t\t\telse:\n",
        "\t\t\t\tSTerm = ' '.join(LTerm)\n",
        "\t\t\t\tLTerm = []\n",
        "\t\t\t\ttry:\n",
        "\t\t\t\t\tself.DTerms[STerm] += 1\n",
        "\t\t\t\texcept:\n",
        "\t\t\t\t\tself.DTerms[STerm] = 1\n",
        "\n",
        "\t\treturn\n"
      ],
      "execution_count": 2,
      "outputs": []
    }
  ]
}